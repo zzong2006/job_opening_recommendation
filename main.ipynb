{
 "cells": [
  {
   "cell_type": "code",
   "execution_count": null,
   "metadata": {
    "collapsed": true,
    "pycharm": {
     "is_executing": true
    }
   },
   "outputs": [],
   "source": [
    "import pandas as pd\n",
    "import matplotlib.pyplot as plt"
   ]
  },
  {
   "cell_type": "markdown",
   "source": [
    "학습 및 테스트 데이터 읽어오기"
   ],
   "metadata": {
    "collapsed": false
   }
  },
  {
   "cell_type": "code",
   "execution_count": null,
   "outputs": [],
   "source": [
    "dftrain = pd.read_csv('./data/train_job/train.csv')\n",
    "dftest = pd.read_csv('./data/test_job.csv')\n",
    "\n",
    "test = dftest.copy()"
   ],
   "metadata": {
    "collapsed": false,
    "pycharm": {
     "name": "#%%\n",
     "is_executing": true
    }
   }
  },
  {
   "cell_type": "markdown",
   "source": [
    "학습 데이터 확인해보기"
   ],
   "metadata": {
    "collapsed": false
   }
  },
  {
   "cell_type": "code",
   "execution_count": 6,
   "outputs": [
    {
     "data": {
      "text/plain": "                             userID                             jobID  applied\n0  fe292163d06253b716e9a0099b42031d  15de21c670ae7c3f6f3f1f37029303c9        0\n1  6377fa90618fae77571e8dc90d98d409  55b37c5c270e5d84c793e486d798c01d        0\n2  8ec0888a5b04139be0dfe942c7eb4199  0fcbc61acd0479dc77e3cccc0f5ffca7        1\n3  f862b39f767d3a1991bdeb2ea1401c9c  3b5dca501ee1e6d8cd7b905f4e1bf723        0\n4  cac14930c65d72c16efac2c51a6b7f71  287e03db1d99e0ec2edb90d079e142f3        0",
      "text/html": "<div>\n<style scoped>\n    .dataframe tbody tr th:only-of-type {\n        vertical-align: middle;\n    }\n\n    .dataframe tbody tr th {\n        vertical-align: top;\n    }\n\n    .dataframe thead th {\n        text-align: right;\n    }\n</style>\n<table border=\"1\" class=\"dataframe\">\n  <thead>\n    <tr style=\"text-align: right;\">\n      <th></th>\n      <th>userID</th>\n      <th>jobID</th>\n      <th>applied</th>\n    </tr>\n  </thead>\n  <tbody>\n    <tr>\n      <th>0</th>\n      <td>fe292163d06253b716e9a0099b42031d</td>\n      <td>15de21c670ae7c3f6f3f1f37029303c9</td>\n      <td>0</td>\n    </tr>\n    <tr>\n      <th>1</th>\n      <td>6377fa90618fae77571e8dc90d98d409</td>\n      <td>55b37c5c270e5d84c793e486d798c01d</td>\n      <td>0</td>\n    </tr>\n    <tr>\n      <th>2</th>\n      <td>8ec0888a5b04139be0dfe942c7eb4199</td>\n      <td>0fcbc61acd0479dc77e3cccc0f5ffca7</td>\n      <td>1</td>\n    </tr>\n    <tr>\n      <th>3</th>\n      <td>f862b39f767d3a1991bdeb2ea1401c9c</td>\n      <td>3b5dca501ee1e6d8cd7b905f4e1bf723</td>\n      <td>0</td>\n    </tr>\n    <tr>\n      <th>4</th>\n      <td>cac14930c65d72c16efac2c51a6b7f71</td>\n      <td>287e03db1d99e0ec2edb90d079e142f3</td>\n      <td>0</td>\n    </tr>\n  </tbody>\n</table>\n</div>"
     },
     "execution_count": 6,
     "metadata": {},
     "output_type": "execute_result"
    }
   ],
   "source": [
    "dftrain.head()"
   ],
   "metadata": {
    "collapsed": false,
    "pycharm": {
     "name": "#%%\n"
    }
   }
  },
  {
   "cell_type": "markdown",
   "source": [
    "데이터가 암호화 되어 있어서, 이 암호화된 string을 정수로 바꿔줘야 할 것 같다.\n",
    "\n",
    "학습 및 테스트 데이터를 변환하기 전에, `userID`와 `jobID`에 관련된 추가 정보들이 담긴 `csv`파일들을 더 불러온다."
   ],
   "metadata": {
    "collapsed": false,
    "pycharm": {
     "name": "#%% md\n"
    }
   }
  },
  {
   "cell_type": "code",
   "execution_count": 7,
   "outputs": [],
   "source": [
    "df_job_companies = pd.read_csv('./data/train_job/job_companies.csv')\n",
    "df_job_tags = pd.read_csv('./data/train_job/job_tags.csv')\n",
    "df_tags = pd.read_csv('./data/train_job/tags.csv')\n",
    "df_user_tags = pd.read_csv('./data/train_job/user_tags.csv')"
   ],
   "metadata": {
    "collapsed": false,
    "pycharm": {
     "name": "#%%\n"
    }
   }
  },
  {
   "cell_type": "code",
   "execution_count": 8,
   "outputs": [
    {
     "name": "stdout",
     "output_type": "stream",
     "text": [
      "job_companies.csv :  Index(['companyID', 'jobID', 'companySize'], dtype='object')\n",
      "job_tags.csv :  Index(['jobID', 'tagID'], dtype='object')\n",
      "tags.csv :  Index(['tagID', 'keyword'], dtype='object')\n",
      "user_tags.csv :  Index(['userID', 'tagID'], dtype='object')\n"
     ]
    }
   ],
   "source": [
    "print('job_companies.csv : ', df_job_companies.columns)\n",
    "print('job_tags.csv : ', df_job_tags.columns)\n",
    "print('tags.csv : ', df_tags.columns)\n",
    "print('user_tags.csv : ', df_user_tags.columns)\n"
   ],
   "metadata": {
    "collapsed": false,
    "pycharm": {
     "name": "#%%\n"
    }
   }
  },
  {
   "cell_type": "code",
   "execution_count": 43,
   "outputs": [
    {
     "name": "stdout",
     "output_type": "stream",
     "text": [
      "                          companyID                             jobID  \\\n",
      "0  00411460f7c92d2124a67ea0f4cb5f85  e5f6ad6ce374177eef023bf5d0c018b6   \n",
      "1  1905aedab9bf2477edc068a355bba31a  185e65bc40581880c4f2c82958de8cfe   \n",
      "2  89fcd07f20b6785b92134bd6c1d0fa42  0537fb40a68c18da59a35c2bfe1ca554   \n",
      "3  acf4b89d3d503d8252c9c4ba75ddbf6d  b7ee6f5f9aa5cd17ca1aea43ce848496   \n",
      "4  fb7b9ffa5462084c5f4e7e85a093e6d7  efe937780e95574250dabe07151bdc23   \n",
      "\n",
      "  companySize  \n",
      "0         NaN  \n",
      "1       11-50  \n",
      "2     101-200  \n",
      "3        1-10  \n",
      "4         NaN  \n",
      "Percent of missing \"companySize\" records is 12.28%\n"
     ]
    }
   ],
   "source": [
    "print(df_job_companies.head())\n",
    "print('Percent of missing \"companySize\" records is {:.2f}%'.format((df_job_companies['companySize'].isna().sum())/df_job_companies.shape[0] * 100) )"
   ],
   "metadata": {
    "collapsed": false,
    "pycharm": {
     "name": "#%%\n"
    }
   }
  },
  {
   "cell_type": "markdown",
   "source": [
    "* 90개의 회사가 `companySize` 데이터가 존재하지 않음(`NaN`)\n",
    "* `jobID`는 `companyID`, `companySize`, `tagID`와 관련이 있으며, `userID`는 `tagID`와 관련이 있음\n",
    "    * `companyID`는 unique 하므로, `jobID`와 차이가 없음\n",
    "    * `companySize`의 데이터를 정리할 필요가 있음"
   ],
   "metadata": {
    "collapsed": false,
    "pycharm": {
     "name": "#%% md\n"
    }
   }
  },
  {
   "cell_type": "code",
   "execution_count": null,
   "outputs": [],
   "source": [
    "df_job_companies[\"companySize\"].replace(\n",
    "    {\"1-10\": 0, \"11-50\":1, \"51-100\":2, \"101-200\":3, \"201-500\":4, \"501-1000\":5, \"1000 이상\": 6}\n",
    "    , inplace=True)\n",
    "df_job_companies.drop(\"companyID\", axis=1, inplace=True)"
   ],
   "metadata": {
    "collapsed": false,
    "pycharm": {
     "name": "#%%\n"
    }
   }
  },
  {
   "cell_type": "code",
   "execution_count": 60,
   "outputs": [
    {
     "name": "stdout",
     "output_type": "stream",
     "text": [
      "<IntegerArray>\n",
      "[<NA>, 1, 3, 0, 2, 6, 4, 5]\n",
      "Length: 8, dtype: Int64\n"
     ]
    }
   ],
   "source": [
    "df_job_companies['companySize'] = df_job_companies['companySize'].astype('Int64')\n",
    "print(df_job_companies['companySize'].unique())"
   ],
   "metadata": {
    "collapsed": false,
    "pycharm": {
     "name": "#%%\n"
    }
   }
  },
  {
   "cell_type": "code",
   "execution_count": 62,
   "outputs": [
    {
     "data": {
      "text/plain": "<Figure size 432x288 with 1 Axes>",
      "image/png": "[encoded data removed]"
     },
     "metadata": {
      "needs_background": "light"
     },
     "output_type": "display_data"
    }
   ],
   "source": [
    "ax = df_job_companies[\"companySize\"].hist(bins=15, density=True, stacked=True, color='teal', alpha=0.6)\n",
    "ax.set(xlabel='companySize')\n",
    "plt.show()"
   ],
   "metadata": {
    "collapsed": false,
    "pycharm": {
     "name": "#%%\n"
    }
   }
  },
  {
   "cell_type": "code",
   "execution_count": 67,
   "outputs": [
    {
     "name": "stdout",
     "output_type": "stream",
     "text": [
      "The mean of \"companySize\" is 1.69\n",
      "The median of \"companySize\" is 1.00\n"
     ]
    }
   ],
   "source": [
    "print('The mean of \"companySize\" is %.2f' %(df_job_companies[\"companySize\"].mean(skipna=True)))\n",
    "print('The median of \"companySize\" is %.2f' %(df_job_companies[\"companySize\"].median(skipna=True)))"
   ],
   "metadata": {
    "collapsed": false,
    "pycharm": {
     "name": "#%%\n"
    }
   }
  },
  {
   "cell_type": "markdown",
   "source": [
    "우선 학습 데이터의 feature가 부족한 것 같으므로, `DataFrame`간 join 연산 수행"
   ],
   "metadata": {
    "collapsed": false,
    "pycharm": {
     "name": "#%% md\n"
    }
   }
  },
  {
   "cell_type": "code",
   "execution_count": 27,
   "outputs": [
    {
     "name": "stdout",
     "output_type": "stream",
     "text": [
      "userID     category\n",
      "jobID        object\n",
      "applied       int64\n",
      "code          int16\n",
      "dtype: object companyID      object\n",
      "jobID          object\n",
      "companySize    object\n",
      "dtype: object\n",
      "(6000, 4) (733, 3)\n"
     ]
    }
   ],
   "source": [
    "print(dftrain.dtypes, df_job_companies.dtypes)\n",
    "print(dftrain.shape, df_job_companies.shape)\n",
    "new_df_train = dftrain.merge(df_job_companies, left_on=\"jobID\", right_on=\"jobID\")"
   ],
   "metadata": {
    "collapsed": false,
    "pycharm": {
     "name": "#%%\n"
    }
   }
  },
  {
   "cell_type": "code",
   "execution_count": 69,
   "outputs": [
    {
     "data": {
      "text/plain": "                                userID                             jobID  \\\n0     fe292163d06253b716e9a0099b42031d  15de21c670ae7c3f6f3f1f37029303c9   \n1     1d0d19d2d7d31ccf3747614aec7273c8  15de21c670ae7c3f6f3f1f37029303c9   \n2     c70daf247944fe3add32218f914c75a6  15de21c670ae7c3f6f3f1f37029303c9   \n3     883b4172416f7b84234d3aeda4199f8f  15de21c670ae7c3f6f3f1f37029303c9   \n4     6bc5d37951120d6d49672ce647c4e563  15de21c670ae7c3f6f3f1f37029303c9   \n...                                ...                               ...   \n5995  946aa0c612952da8d67dd338a43d5929  f29b38f160f87ae86df31cee1982066f   \n5996  fd1b4044581c63b9cb16d91958302072  92262bf907af914b95a0fc33c3f33bf6   \n5997  b94a3f555cc529e2ef5d5277651a33c1  caf1a3dfb505ffed0d024130f58c5cfa   \n5998  78492ae8ee0c7aeab730674170296142  7f1171a78ce0780a2142a6eb7bc4f3c8   \n5999  c0b199d73bdf390c2f4c3150b6ee1574  e3796ae838835da0b6f6ea37bcf8bcb7   \n\n      applied  code                         companyID companySize  \n0           0   195  4f6ffe13a5d75b2d6a3923922b3922e5       11-50  \n1           0    17  4f6ffe13a5d75b2d6a3923922b3922e5       11-50  \n2           0   157  4f6ffe13a5d75b2d6a3923922b3922e5       11-50  \n3           1   107  4f6ffe13a5d75b2d6a3923922b3922e5       11-50  \n4           0    74  4f6ffe13a5d75b2d6a3923922b3922e5       11-50  \n...       ...   ...                               ...         ...  \n5995        0   116  e5e63da79fcd2bebbd7cb8bf1c1d0274    501-1000  \n5996        0   193  193002e668758ea9762904da1a22337c       11-50  \n5997        0   149  4f6ffe13a5d75b2d6a3923922b3922e5       11-50  \n5998        1    87  7fa732b517cbed14a48843d74526c11a        1-10  \n5999        0   154  68ce199ec2c5517597ce0a4d89620f55      51-100  \n\n[6000 rows x 6 columns]",
      "text/html": "<div>\n<style scoped>\n    .dataframe tbody tr th:only-of-type {\n        vertical-align: middle;\n    }\n\n    .dataframe tbody tr th {\n        vertical-align: top;\n    }\n\n    .dataframe thead th {\n        text-align: right;\n    }\n</style>\n<table border=\"1\" class=\"dataframe\">\n  <thead>\n    <tr style=\"text-align: right;\">\n      <th></th>\n      <th>userID</th>\n      <th>jobID</th>\n      <th>applied</th>\n      <th>code</th>\n      <th>companyID</th>\n      <th>companySize</th>\n    </tr>\n  </thead>\n  <tbody>\n    <tr>\n      <th>0</th>\n      <td>fe292163d06253b716e9a0099b42031d</td>\n      <td>15de21c670ae7c3f6f3f1f37029303c9</td>\n      <td>0</td>\n      <td>195</td>\n      <td>4f6ffe13a5d75b2d6a3923922b3922e5</td>\n      <td>11-50</td>\n    </tr>\n    <tr>\n      <th>1</th>\n      <td>1d0d19d2d7d31ccf3747614aec7273c8</td>\n      <td>15de21c670ae7c3f6f3f1f37029303c9</td>\n      <td>0</td>\n      <td>17</td>\n      <td>4f6ffe13a5d75b2d6a3923922b3922e5</td>\n      <td>11-50</td>\n    </tr>\n    <tr>\n      <th>2</th>\n      <td>c70daf247944fe3add32218f914c75a6</td>\n      <td>15de21c670ae7c3f6f3f1f37029303c9</td>\n      <td>0</td>\n      <td>157</td>\n      <td>4f6ffe13a5d75b2d6a3923922b3922e5</td>\n      <td>11-50</td>\n    </tr>\n    <tr>\n      <th>3</th>\n      <td>883b4172416f7b84234d3aeda4199f8f</td>\n      <td>15de21c670ae7c3f6f3f1f37029303c9</td>\n      <td>1</td>\n      <td>107</td>\n      <td>4f6ffe13a5d75b2d6a3923922b3922e5</td>\n      <td>11-50</td>\n    </tr>\n    <tr>\n      <th>4</th>\n      <td>6bc5d37951120d6d49672ce647c4e563</td>\n      <td>15de21c670ae7c3f6f3f1f37029303c9</td>\n      <td>0</td>\n      <td>74</td>\n      <td>4f6ffe13a5d75b2d6a3923922b3922e5</td>\n      <td>11-50</td>\n    </tr>\n    <tr>\n      <th>...</th>\n      <td>...</td>\n      <td>...</td>\n      <td>...</td>\n      <td>...</td>\n      <td>...</td>\n      <td>...</td>\n    </tr>\n    <tr>\n      <th>5995</th>\n      <td>946aa0c612952da8d67dd338a43d5929</td>\n      <td>f29b38f160f87ae86df31cee1982066f</td>\n      <td>0</td>\n      <td>116</td>\n      <td>e5e63da79fcd2bebbd7cb8bf1c1d0274</td>\n      <td>501-1000</td>\n    </tr>\n    <tr>\n      <th>5996</th>\n      <td>fd1b4044581c63b9cb16d91958302072</td>\n      <td>92262bf907af914b95a0fc33c3f33bf6</td>\n      <td>0</td>\n      <td>193</td>\n      <td>193002e668758ea9762904da1a22337c</td>\n      <td>11-50</td>\n    </tr>\n    <tr>\n      <th>5997</th>\n      <td>b94a3f555cc529e2ef5d5277651a33c1</td>\n      <td>caf1a3dfb505ffed0d024130f58c5cfa</td>\n      <td>0</td>\n      <td>149</td>\n      <td>4f6ffe13a5d75b2d6a3923922b3922e5</td>\n      <td>11-50</td>\n    </tr>\n    <tr>\n      <th>5998</th>\n      <td>78492ae8ee0c7aeab730674170296142</td>\n      <td>7f1171a78ce0780a2142a6eb7bc4f3c8</td>\n      <td>1</td>\n      <td>87</td>\n      <td>7fa732b517cbed14a48843d74526c11a</td>\n      <td>1-10</td>\n    </tr>\n    <tr>\n      <th>5999</th>\n      <td>c0b199d73bdf390c2f4c3150b6ee1574</td>\n      <td>e3796ae838835da0b6f6ea37bcf8bcb7</td>\n      <td>0</td>\n      <td>154</td>\n      <td>68ce199ec2c5517597ce0a4d89620f55</td>\n      <td>51-100</td>\n    </tr>\n  </tbody>\n</table>\n<p>6000 rows × 6 columns</p>\n</div>"
     },
     "execution_count": 69,
     "metadata": {},
     "output_type": "execute_result"
    }
   ],
   "source": [
    "new_df_train"
   ],
   "metadata": {
    "collapsed": false,
    "pycharm": {
     "name": "#%%\n"
    }
   }
  }
 ],
 "metadata": {
  "kernelspec": {
   "name": "python3",
   "language": "python",
   "display_name": "Python 3"
  },
  "language_info": {
   "codemirror_mode": {
    "name": "ipython",
    "version": 2
   },
   "file_extension": ".py",
   "mimetype": "text/x-python",
   "name": "python",
   "nbconvert_exporter": "python",
   "pygments_lexer": "ipython2",
   "version": "2.7.6"
  }
 },
 "nbformat": 4,
 "nbformat_minor": 0
}