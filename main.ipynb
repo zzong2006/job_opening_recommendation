{
 "cells": [
  {
   "cell_type": "code",
   "execution_count": 2,
   "metadata": {
    "collapsed": true
   },
   "outputs": [],
   "source": [
    "import pandas as pd\n"
   ]
  },
  {
   "cell_type": "markdown",
   "source": [
    "학습 및 테스트 데이터 읽어오기"
   ],
   "metadata": {
    "collapsed": false
   }
  },
  {
   "cell_type": "code",
   "execution_count": 5,
   "outputs": [],
   "source": [
    "dftrain = pd.read_csv('./data/train_job/train.csv')\n",
    "dftest = pd.read_csv('./data/test_job.csv')\n",
    "\n",
    "test = dftest.copy()"
   ],
   "metadata": {
    "collapsed": false,
    "pycharm": {
     "name": "#%%\n"
    }
   }
  },
  {
   "cell_type": "markdown",
   "source": [
    "학습 데이터 확인해보기"
   ],
   "metadata": {
    "collapsed": false
   }
  },
  {
   "cell_type": "code",
   "execution_count": 8,
   "outputs": [
    {
     "data": {
      "text/plain": "                             userID                             jobID  applied\n0  fe292163d06253b716e9a0099b42031d  15de21c670ae7c3f6f3f1f37029303c9        0\n1  6377fa90618fae77571e8dc90d98d409  55b37c5c270e5d84c793e486d798c01d        0\n2  8ec0888a5b04139be0dfe942c7eb4199  0fcbc61acd0479dc77e3cccc0f5ffca7        1\n3  f862b39f767d3a1991bdeb2ea1401c9c  3b5dca501ee1e6d8cd7b905f4e1bf723        0\n4  cac14930c65d72c16efac2c51a6b7f71  287e03db1d99e0ec2edb90d079e142f3        0",
      "text/html": "<div>\n<style scoped>\n    .dataframe tbody tr th:only-of-type {\n        vertical-align: middle;\n    }\n\n    .dataframe tbody tr th {\n        vertical-align: top;\n    }\n\n    .dataframe thead th {\n        text-align: right;\n    }\n</style>\n<table border=\"1\" class=\"dataframe\">\n  <thead>\n    <tr style=\"text-align: right;\">\n      <th></th>\n      <th>userID</th>\n      <th>jobID</th>\n      <th>applied</th>\n    </tr>\n  </thead>\n  <tbody>\n    <tr>\n      <th>0</th>\n      <td>fe292163d06253b716e9a0099b42031d</td>\n      <td>15de21c670ae7c3f6f3f1f37029303c9</td>\n      <td>0</td>\n    </tr>\n    <tr>\n      <th>1</th>\n      <td>6377fa90618fae77571e8dc90d98d409</td>\n      <td>55b37c5c270e5d84c793e486d798c01d</td>\n      <td>0</td>\n    </tr>\n    <tr>\n      <th>2</th>\n      <td>8ec0888a5b04139be0dfe942c7eb4199</td>\n      <td>0fcbc61acd0479dc77e3cccc0f5ffca7</td>\n      <td>1</td>\n    </tr>\n    <tr>\n      <th>3</th>\n      <td>f862b39f767d3a1991bdeb2ea1401c9c</td>\n      <td>3b5dca501ee1e6d8cd7b905f4e1bf723</td>\n      <td>0</td>\n    </tr>\n    <tr>\n      <th>4</th>\n      <td>cac14930c65d72c16efac2c51a6b7f71</td>\n      <td>287e03db1d99e0ec2edb90d079e142f3</td>\n      <td>0</td>\n    </tr>\n  </tbody>\n</table>\n</div>"
     },
     "execution_count": 8,
     "metadata": {},
     "output_type": "execute_result"
    }
   ],
   "source": [
    "dftrain.head()"
   ],
   "metadata": {
    "collapsed": false,
    "pycharm": {
     "name": "#%%\n"
    }
   }
  },
  {
   "cell_type": "markdown",
   "source": [
    "데이터가 암호화 되어 있어서, 이 암호화된 string을 정수로 바꿔줘야 할 것 같다.\n",
    "\n",
    "학습 및 테스트 데이터를 변환하기 전에, `userID`와 `jobID`에 관련된 추가 정보들이 담긴 `csv`파일들을 더 불러온다."
   ],
   "metadata": {
    "collapsed": false,
    "pycharm": {
     "name": "#%% md\n"
    }
   }
  },
  {
   "cell_type": "code",
   "execution_count": 14,
   "outputs": [],
   "source": [
    "df_job_companies = pd.read_csv('./data/train_job/job_companies.csv')\n",
    "df_job_tags = pd.read_csv('./data/train_job/job_tags.csv')\n",
    "df_tags = pd.read_csv('./data/train_job/tags.csv')\n",
    "df_user_tags = pd.read_csv('./data/train_job/user_tags.csv')"
   ],
   "metadata": {
    "collapsed": false,
    "pycharm": {
     "name": "#%%\n"
    }
   }
  },
  {
   "cell_type": "code",
   "execution_count": 17,
   "outputs": [
    {
     "name": "stdout",
     "output_type": "stream",
     "text": [
      "job_companies.csv :  Index(['companyID', 'jobID', 'companySize'], dtype='object')\n",
      "job_tags.csv :  Index(['jobID', 'tagID'], dtype='object')\n",
      "tags.csv :  Index(['tagID', 'keyword'], dtype='object')\n",
      "user_tags.csv :  Index(['userID', 'tagID'], dtype='object')\n"
     ]
    }
   ],
   "source": [
    "print('job_companies.csv : ', df_job_companies.columns)\n",
    "print('job_tags.csv : ', df_job_tags.columns)\n",
    "print('tags.csv : ', df_tags.columns)\n",
    "print('user_tags.csv : ', df_user_tags.columns)\n"
   ],
   "metadata": {
    "collapsed": false,
    "pycharm": {
     "name": "#%%\n"
    }
   }
  },
  {
   "cell_type": "code",
   "execution_count": 25,
   "outputs": [
    {
     "name": "stdout",
     "output_type": "stream",
     "text": [
      "companyID       0\n",
      "jobID           0\n",
      "companySize    90\n",
      "dtype: int64\n"
     ]
    }
   ],
   "source": [
    "print(df_job_companies.isna().sum())"
   ],
   "metadata": {
    "collapsed": false,
    "pycharm": {
     "name": "#%%\n"
    }
   }
  },
  {
   "cell_type": "markdown",
   "source": [
    "* 90개의 회사가 `companySize` 데이터가 존재하지 않음(`NaN`)\n",
    "* `jobID`는 `tagID`, `companyID`, `companySize`, `tagID`와 관련이 있으며, `userID`는 `tagID`와 관련이 있음"
   ],
   "metadata": {
    "collapsed": false,
    "pycharm": {
     "name": "#%% md\n"
    }
   }
  },
  {
   "cell_type": "code",
   "execution_count": 26,
   "outputs": [],
   "source": [
    "dftrain.userID = pd.Categorical(dftrain.userID)\n",
    "dftrain['code'] = dftrain.userID.cat.codes\n",
    "# dftrain\n"
   ],
   "metadata": {
    "collapsed": false,
    "pycharm": {
     "name": "#%%\n"
    }
   }
  }
 ],
 "metadata": {
  "kernelspec": {
   "name": "python3",
   "language": "python",
   "display_name": "Python 3"
  },
  "language_info": {
   "codemirror_mode": {
    "name": "ipython",
    "version": 2
   },
   "file_extension": ".py",
   "mimetype": "text/x-python",
   "name": "python",
   "nbconvert_exporter": "python",
   "pygments_lexer": "ipython2",
   "version": "2.7.6"
  }
 },
 "nbformat": 4,
 "nbformat_minor": 0
}